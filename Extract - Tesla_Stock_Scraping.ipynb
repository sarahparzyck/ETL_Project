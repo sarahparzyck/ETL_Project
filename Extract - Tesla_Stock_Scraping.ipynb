{
 "cells": [
  {
   "cell_type": "markdown",
   "metadata": {},
   "source": [
    "![Tesla Logo](https://www.exoticcargear.com/wp-content/uploads/Tesla-Model-S_EXoticCarGear_banner.jpg)"
   ]
  },
  {
   "cell_type": "markdown",
   "metadata": {},
   "source": [
    "# Web scraping Tesla stocks from Yahoo Finance"
   ]
  },
  {
   "cell_type": "code",
   "execution_count": 1,
   "metadata": {},
   "outputs": [],
   "source": [
    "# Import the necessary libraries\n",
    "from bs4 import BeautifulSoup \n",
    "import requests\n",
    "import numpy as np\n",
    "import pandas as pd \n",
    "import time\n",
    "from splinter import Browser\n",
    "from splinter.exceptions import ElementDoesNotExist"
   ]
  },
  {
   "cell_type": "markdown",
   "metadata": {},
   "source": [
    "### Yahoo finance webpage"
   ]
  },
  {
   "cell_type": "code",
   "execution_count": 2,
   "metadata": {},
   "outputs": [],
   "source": [
    "# Instantiate browser\n",
    "executable_path = {'executable_path': 'chromedriver.exe'}\n",
    "browser = Browser('chrome', **executable_path, headless=False)"
   ]
  },
  {
   "cell_type": "code",
   "execution_count": 3,
   "metadata": {},
   "outputs": [],
   "source": [
    "# URL of page to be scraped\n",
    "url_to_scrape = \"https://finance.yahoo.com/quote/TSLA/history?period1=1438041600&period2=1595894400&interval=1d&filter=history&frequency=1d\"\n",
    "\n",
    "# Visit the url using browser.visit method\n",
    "browser.visit(url_to_scrape)\n",
    "\n",
    "# Set delay for 1 minute to ensure the webpage loads correctly\n",
    "time.sleep(60)"
   ]
  },
  {
   "cell_type": "code",
   "execution_count": 4,
   "metadata": {},
   "outputs": [],
   "source": [
    "# Browser set-up\n",
    "html = browser.html\n",
    "\n",
    "# Create BeautifulSoup object; parse with 'html.parser'\n",
    "soup = BeautifulSoup(html, 'html.parser')"
   ]
  },
  {
   "cell_type": "code",
   "execution_count": 5,
   "metadata": {},
   "outputs": [
    {
     "name": "stdout",
     "output_type": "stream",
     "text": [
      "Tesla, Inc. (TSLA) Stock Historical Prices & Data - Yahoo Finance\n"
     ]
    }
   ],
   "source": [
    "# Inspecting the title of the web page\n",
    "print(soup.title.string)"
   ]
  },
  {
   "cell_type": "code",
   "execution_count": 6,
   "metadata": {},
   "outputs": [],
   "source": [
    "# Inspecting the website we see that table is wrapped as <table class=\"W(100%) M(0)\">\n",
    "tesla_table = soup.find('table', attrs={\"class\": \"W(100%) M(0)\"})"
   ]
  },
  {
   "cell_type": "code",
   "execution_count": 7,
   "metadata": {},
   "outputs": [
    {
     "name": "stdout",
     "output_type": "stream",
     "text": [
      "['Date', 'Open', 'High', 'Low', 'Close*', 'Adj Close**', 'Volume']\n"
     ]
    }
   ],
   "source": [
    "# Let's find all the headers in the table\n",
    "table_headers = tesla_table.find_all('th')\n",
    "\n",
    "# Let's find the column headings from the header\n",
    "headings = [table_header.text.strip() for table_header in table_headers]\n",
    "print(headings)"
   ]
  },
  {
   "cell_type": "code",
   "execution_count": 8,
   "metadata": {},
   "outputs": [
    {
     "name": "stdout",
     "output_type": "stream",
     "text": [
      "Total number of rows in the table: 1261\n"
     ]
    }
   ],
   "source": [
    "# Let's check the rows in the table\n",
    "table_rows = tesla_table.find_all('tr')\n",
    "print(\"Total number of rows in the table:\",len(table_rows))"
   ]
  },
  {
   "cell_type": "code",
   "execution_count": 9,
   "metadata": {},
   "outputs": [],
   "source": [
    "# Let's check the elements in the table\n",
    "table_elements = tesla_table.find_all('td')\n",
    "\n",
    "# Initiate an array row_values\n",
    "row_values = []\n",
    "\n",
    "# Fill the array row_values\n",
    "for rows in table_rows:\n",
    "     data = rows.find_all('td') # finding the elements in each row\n",
    "     values = [rows.text.strip() for rows in data if rows.text.strip()]\n",
    "     if values:\n",
    "        row_values.append(values) # Adding elements"
   ]
  },
  {
   "cell_type": "code",
   "execution_count": 10,
   "metadata": {},
   "outputs": [
    {
     "name": "stdout",
     "output_type": "stream",
     "text": [
      "Shape of the tesla stock dataFrame: (1259, 7)\n"
     ]
    },
    {
     "data": {
      "text/html": [
       "<div>\n",
       "<style scoped>\n",
       "    .dataframe tbody tr th:only-of-type {\n",
       "        vertical-align: middle;\n",
       "    }\n",
       "\n",
       "    .dataframe tbody tr th {\n",
       "        vertical-align: top;\n",
       "    }\n",
       "\n",
       "    .dataframe thead th {\n",
       "        text-align: right;\n",
       "    }\n",
       "</style>\n",
       "<table border=\"1\" class=\"dataframe\">\n",
       "  <thead>\n",
       "    <tr style=\"text-align: right;\">\n",
       "      <th></th>\n",
       "      <th>Date</th>\n",
       "      <th>Open</th>\n",
       "      <th>High</th>\n",
       "      <th>Low</th>\n",
       "      <th>Close</th>\n",
       "      <th>Adj Close</th>\n",
       "      <th>Volume</th>\n",
       "    </tr>\n",
       "  </thead>\n",
       "  <tbody>\n",
       "    <tr>\n",
       "      <th>0</th>\n",
       "      <td>Jul 27, 2020</td>\n",
       "      <td>1,435.00</td>\n",
       "      <td>1,547.94</td>\n",
       "      <td>1,413.00</td>\n",
       "      <td>1,539.60</td>\n",
       "      <td>1,539.60</td>\n",
       "      <td>16,048,700</td>\n",
       "    </tr>\n",
       "    <tr>\n",
       "      <th>1</th>\n",
       "      <td>Jul 24, 2020</td>\n",
       "      <td>1,416.01</td>\n",
       "      <td>1,465.00</td>\n",
       "      <td>1,366.54</td>\n",
       "      <td>1,417.00</td>\n",
       "      <td>1,417.00</td>\n",
       "      <td>19,396,600</td>\n",
       "    </tr>\n",
       "    <tr>\n",
       "      <th>2</th>\n",
       "      <td>Jul 23, 2020</td>\n",
       "      <td>1,678.95</td>\n",
       "      <td>1,689.00</td>\n",
       "      <td>1,480.77</td>\n",
       "      <td>1,513.07</td>\n",
       "      <td>1,513.07</td>\n",
       "      <td>24,328,500</td>\n",
       "    </tr>\n",
       "    <tr>\n",
       "      <th>3</th>\n",
       "      <td>Jul 22, 2020</td>\n",
       "      <td>1,599.00</td>\n",
       "      <td>1,626.42</td>\n",
       "      <td>1,562.00</td>\n",
       "      <td>1,592.33</td>\n",
       "      <td>1,592.33</td>\n",
       "      <td>14,161,100</td>\n",
       "    </tr>\n",
       "    <tr>\n",
       "      <th>4</th>\n",
       "      <td>Jul 21, 2020</td>\n",
       "      <td>1,639.93</td>\n",
       "      <td>1,675.00</td>\n",
       "      <td>1,558.00</td>\n",
       "      <td>1,568.36</td>\n",
       "      <td>1,568.36</td>\n",
       "      <td>16,157,300</td>\n",
       "    </tr>\n",
       "  </tbody>\n",
       "</table>\n",
       "</div>"
      ],
      "text/plain": [
       "           Date      Open      High       Low     Close Adj Close      Volume\n",
       "0  Jul 27, 2020  1,435.00  1,547.94  1,413.00  1,539.60  1,539.60  16,048,700\n",
       "1  Jul 24, 2020  1,416.01  1,465.00  1,366.54  1,417.00  1,417.00  19,396,600\n",
       "2  Jul 23, 2020  1,678.95  1,689.00  1,480.77  1,513.07  1,513.07  24,328,500\n",
       "3  Jul 22, 2020  1,599.00  1,626.42  1,562.00  1,592.33  1,592.33  14,161,100\n",
       "4  Jul 21, 2020  1,639.93  1,675.00  1,558.00  1,568.36  1,568.36  16,157,300"
      ]
     },
     "execution_count": 10,
     "metadata": {},
     "output_type": "execute_result"
    }
   ],
   "source": [
    "# Initiate column names for the dataframe\n",
    "column_names = ['Date', 'Open', 'High', 'Low', 'Close', 'Adj Close', 'Volume']\n",
    "\n",
    "# Create the initial pandas dataframe \n",
    "tesla_df = pd.DataFrame(row_values, columns=column_names)\n",
    "\n",
    "# The last row contained text data and hence is being dropped\n",
    "tesla_df.drop([tesla_df.index[1259]],inplace=True)\n",
    "\n",
    "# Let's check the shape of the dataframe\n",
    "print(\"Shape of the tesla stock dataFrame:\",tesla_df.shape)\n",
    "tesla_df.head()"
   ]
  },
  {
   "cell_type": "code",
   "execution_count": 11,
   "metadata": {},
   "outputs": [],
   "source": [
    "# Save the dataframe in .csv file\n",
    "tesla_df.to_csv (\"Output Data/tesla_stocks.csv\", encoding = \"utf-8\",index = False, header=True)"
   ]
  },
  {
   "cell_type": "code",
   "execution_count": 12,
   "metadata": {},
   "outputs": [],
   "source": [
    "# Closing browser using browser.quit:\n",
    "browser.quit()"
   ]
  }
 ],
 "metadata": {
  "kernelspec": {
   "display_name": "Python 3",
   "language": "python",
   "name": "python3"
  },
  "language_info": {
   "codemirror_mode": {
    "name": "ipython",
    "version": 3
   },
   "file_extension": ".py",
   "mimetype": "text/x-python",
   "name": "python",
   "nbconvert_exporter": "python",
   "pygments_lexer": "ipython3",
   "version": "3.7.6"
  },
  "varInspector": {
   "cols": {
    "lenName": 16,
    "lenType": 16,
    "lenVar": 40
   },
   "kernels_config": {
    "python": {
     "delete_cmd_postfix": "",
     "delete_cmd_prefix": "del ",
     "library": "var_list.py",
     "varRefreshCmd": "print(var_dic_list())"
    },
    "r": {
     "delete_cmd_postfix": ") ",
     "delete_cmd_prefix": "rm(",
     "library": "var_list.r",
     "varRefreshCmd": "cat(var_dic_list()) "
    }
   },
   "types_to_exclude": [
    "module",
    "function",
    "builtin_function_or_method",
    "instance",
    "_Feature"
   ],
   "window_display": false
  }
 },
 "nbformat": 4,
 "nbformat_minor": 2
}
