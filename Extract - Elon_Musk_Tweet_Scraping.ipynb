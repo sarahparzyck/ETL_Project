{
 "cells": [
  {
   "cell_type": "markdown",
   "metadata": {},
   "source": [
    "![Tesla Logo](https://www.exoticcargear.com/wp-content/uploads/Tesla-Model-S_EXoticCarGear_banner.jpg)"
   ]
  },
  {
   "cell_type": "markdown",
   "metadata": {},
   "source": [
    "# Elon Musk tweets using GetOldTweets3"
   ]
  },
  {
   "cell_type": "code",
   "execution_count": 1,
   "metadata": {},
   "outputs": [],
   "source": [
    "# Import the necessary libraries\n",
    "# !pip install GetOldTweets3\n",
    "from bs4 import BeautifulSoup\n",
    "import GetOldTweets3 as got\n",
    "import numpy as np\n",
    "import pandas as pd \n",
    "import time\n",
    "from splinter import Browser\n",
    "from splinter.exceptions import ElementDoesNotExist"
   ]
  },
  {
   "cell_type": "markdown",
   "metadata": {},
   "source": [
    "## Get tweets by username"
   ]
  },
  {
   "cell_type": "code",
   "execution_count": 2,
   "metadata": {},
   "outputs": [
    {
     "name": "stdout",
     "output_type": "stream",
     "text": [
      "1289474926399741954 elonmusk The simplest solution is not necessarily the most satisfying 2020-08-01 08:15:54+00:00 332 4968\n"
     ]
    }
   ],
   "source": [
    "# Define tweet criteria based on username and 10 maximum tweets\n",
    "tweetCriteria = got.manager.TweetCriteria().setUsername(\"elonmusk\")\\\n",
    "                                           .setMaxTweets(100)\n",
    "\n",
    "# Get the tweets\n",
    "tweets = got.manager.TweetManager.getTweets(tweetCriteria)\n",
    "\n",
    "# Print the characteristics of the first tweet\n",
    "print(tweets[0].id,tweets[0].username,tweets[0].text,tweets[0].date,tweets[0].retweets,tweets[0].favorites)"
   ]
  },
  {
   "cell_type": "markdown",
   "metadata": {},
   "source": [
    "## Get tweets by username and time duration"
   ]
  },
  {
   "cell_type": "code",
   "execution_count": 4,
   "metadata": {},
   "outputs": [
    {
     "name": "stdout",
     "output_type": "stream",
     "text": [
      "1287839317537284096 elonmusk Whether commercial or government, monopolies are bad for the people 2020-07-27 19:56:34+00:00 1873 13198\n"
     ]
    }
   ],
   "source": [
    "# Due to the volume of tweets, this block of code may take upto 15 minutes to run\n",
    "tweetCriteria = got.manager.TweetCriteria().setUsername(\"elonmusk\")\\\n",
    "                                           .setSince(\"2015-07-28\")\\\n",
    "                                           .setUntil(\"2020-07-28\")\\\n",
    "                                           .setMaxTweets(10000)\n",
    "tweets = got.manager.TweetManager.getTweets(tweetCriteria)\n",
    "\n",
    "# Print the characteristics of the first tweet\n",
    "print(tweets[0].id,tweets[0].username,tweets[0].text,tweets[0].date,tweets[0].retweets,tweets[0].favorites)"
   ]
  },
  {
   "cell_type": "code",
   "execution_count": 5,
   "metadata": {},
   "outputs": [
    {
     "data": {
      "text/html": [
       "<div>\n",
       "<style scoped>\n",
       "    .dataframe tbody tr th:only-of-type {\n",
       "        vertical-align: middle;\n",
       "    }\n",
       "\n",
       "    .dataframe tbody tr th {\n",
       "        vertical-align: top;\n",
       "    }\n",
       "\n",
       "    .dataframe thead th {\n",
       "        text-align: right;\n",
       "    }\n",
       "</style>\n",
       "<table border=\"1\" class=\"dataframe\">\n",
       "  <thead>\n",
       "    <tr style=\"text-align: right;\">\n",
       "      <th></th>\n",
       "      <th>id</th>\n",
       "      <th>user</th>\n",
       "      <th>text</th>\n",
       "      <th>date</th>\n",
       "      <th>retweets</th>\n",
       "      <th>favorites</th>\n",
       "    </tr>\n",
       "  </thead>\n",
       "  <tbody>\n",
       "    <tr>\n",
       "      <th>9335</th>\n",
       "      <td>625893002490314753</td>\n",
       "      <td>elonmusk</td>\n",
       "      <td>@ID_AA_Carmack Even if inevitable, we should a...</td>\n",
       "      <td>2015-07-28 04:58:14+00:00</td>\n",
       "      <td>142</td>\n",
       "      <td>299</td>\n",
       "    </tr>\n",
       "    <tr>\n",
       "      <th>9336</th>\n",
       "      <td>625843527608459266</td>\n",
       "      <td>elonmusk</td>\n",
       "      <td>If you’re against a military AI arms race, ple...</td>\n",
       "      <td>2015-07-28 01:41:39+00:00</td>\n",
       "      <td>3045</td>\n",
       "      <td>2703</td>\n",
       "    </tr>\n",
       "  </tbody>\n",
       "</table>\n",
       "</div>"
      ],
      "text/plain": [
       "                      id      user  \\\n",
       "9335  625893002490314753  elonmusk   \n",
       "9336  625843527608459266  elonmusk   \n",
       "\n",
       "                                                   text  \\\n",
       "9335  @ID_AA_Carmack Even if inevitable, we should a...   \n",
       "9336  If you’re against a military AI arms race, ple...   \n",
       "\n",
       "                          date  retweets  favorites  \n",
       "9335 2015-07-28 04:58:14+00:00       142        299  \n",
       "9336 2015-07-28 01:41:39+00:00      3045       2703  "
      ]
     },
     "execution_count": 5,
     "metadata": {},
     "output_type": "execute_result"
    }
   ],
   "source": [
    "# Creating a list of tweets with the tweet attributes \n",
    "text_tweets = [[tw.id,\n",
    "                tw.username,\n",
    "                tw.text,\n",
    "                tw.date,\n",
    "                tw.retweets,\n",
    "                tw.favorites] for tw in tweets]\n",
    "\n",
    "# Create the DataFrame from the above list\n",
    "musk_tweets = pd.DataFrame(text_tweets, \n",
    "              columns = ['id','user', 'text','date','retweets','favorites'])\n",
    "musk_tweets.tail(2)"
   ]
  },
  {
   "cell_type": "code",
   "execution_count": 6,
   "metadata": {},
   "outputs": [],
   "source": [
    "# Save the dataframe in .csv file\n",
    "musk_tweets.to_csv (\"Output Data/musk_tweets.csv\", encoding = \"utf-8\",index = False, header=True)"
   ]
  }
 ],
 "metadata": {
  "kernelspec": {
   "display_name": "Python 3",
   "language": "python",
   "name": "python3"
  },
  "language_info": {
   "codemirror_mode": {
    "name": "ipython",
    "version": 3
   },
   "file_extension": ".py",
   "mimetype": "text/x-python",
   "name": "python",
   "nbconvert_exporter": "python",
   "pygments_lexer": "ipython3",
   "version": "3.7.6"
  },
  "varInspector": {
   "cols": {
    "lenName": 16,
    "lenType": 16,
    "lenVar": 40
   },
   "kernels_config": {
    "python": {
     "delete_cmd_postfix": "",
     "delete_cmd_prefix": "del ",
     "library": "var_list.py",
     "varRefreshCmd": "print(var_dic_list())"
    },
    "r": {
     "delete_cmd_postfix": ") ",
     "delete_cmd_prefix": "rm(",
     "library": "var_list.r",
     "varRefreshCmd": "cat(var_dic_list()) "
    }
   },
   "types_to_exclude": [
    "module",
    "function",
    "builtin_function_or_method",
    "instance",
    "_Feature"
   ],
   "window_display": false
  }
 },
 "nbformat": 4,
 "nbformat_minor": 2
}
