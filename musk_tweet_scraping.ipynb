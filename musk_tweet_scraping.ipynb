{
 "cells": [
  {
   "cell_type": "markdown",
   "metadata": {},
   "source": [
    "![Tesla Logo](https://www.exoticcargear.com/wp-content/uploads/Tesla-Model-S_EXoticCarGear_banner.jpg)"
   ]
  },
  {
   "cell_type": "markdown",
   "metadata": {},
   "source": [
    "# Elon Musk tweets using GetOldTweets3"
   ]
  },
  {
   "cell_type": "code",
   "execution_count": 1,
   "metadata": {},
   "outputs": [],
   "source": [
    "# Import the necessary libraries\n",
    "#!pip install GetOldTweets3\n",
    "from bs4 import BeautifulSoup \n",
    "import GetOldTweets3 as got\n",
    "import numpy as np\n",
    "import pandas as pd \n",
    "import time\n",
    "from splinter import Browser\n",
    "from splinter.exceptions import ElementDoesNotExist"
   ]
  },
  {
   "cell_type": "markdown",
   "metadata": {},
   "source": [
    "## Get tweets by username"
   ]
  },
  {
   "cell_type": "code",
   "execution_count": 2,
   "metadata": {},
   "outputs": [
    {
     "name": "stdout",
     "output_type": "stream",
     "text": [
      "1288759969064468481 elonmusk But sometimes when we touch … 2020-07-30 08:54:55+00:00 880 24517\n"
     ]
    }
   ],
   "source": [
    "# Define tweet criteria based on username and 10 maximum tweets\n",
    "tweetCriteria = got.manager.TweetCriteria().setUsername(\"elonmusk\")\\\n",
    "                                           .setMaxTweets(100)\n",
    "# Get the tweets\n",
    "tweets = got.manager.TweetManager.getTweets(tweetCriteria)\n",
    "# Print the characteristics of the first tweet\n",
    "print(tweets[0].id,tweets[0].username,tweets[0].text,tweets[0].date,tweets[0].retweets,tweets[0].favorites)"
   ]
  },
  {
   "cell_type": "markdown",
   "metadata": {},
   "source": [
    "## Get tweets by username and time duration"
   ]
  },
  {
   "cell_type": "code",
   "execution_count": 3,
   "metadata": {},
   "outputs": [
    {
     "name": "stdout",
     "output_type": "stream",
     "text": [
      "1287839317537284096 elonmusk Whether commercial or government, monopolies are bad for the people 2020-07-27 19:56:34+00:00 1848 13043\n"
     ]
    }
   ],
   "source": [
    "tweetCriteria = got.manager.TweetCriteria().setUsername(\"elonmusk\")\\\n",
    "                                           .setSince(\"2015-07-28\")\\\n",
    "                                           .setUntil(\"2020-07-28\")\\\n",
    "                                           .setMaxTweets(10000)\n",
    "tweets = got.manager.TweetManager.getTweets(tweetCriteria)\n",
    "# Print the characteristics of the first tweet\n",
    "print(tweets[0].id,tweets[0].username,tweets[0].text,tweets[0].date,tweets[0].retweets,tweets[0].favorites)"
   ]
  },
  {
   "cell_type": "code",
   "execution_count": 7,
   "metadata": {},
   "outputs": [
    {
     "data": {
      "text/html": [
       "<div>\n",
       "<style scoped>\n",
       "    .dataframe tbody tr th:only-of-type {\n",
       "        vertical-align: middle;\n",
       "    }\n",
       "\n",
       "    .dataframe tbody tr th {\n",
       "        vertical-align: top;\n",
       "    }\n",
       "\n",
       "    .dataframe thead th {\n",
       "        text-align: right;\n",
       "    }\n",
       "</style>\n",
       "<table border=\"1\" class=\"dataframe\">\n",
       "  <thead>\n",
       "    <tr style=\"text-align: right;\">\n",
       "      <th></th>\n",
       "      <th>id</th>\n",
       "      <th>user</th>\n",
       "      <th>text</th>\n",
       "      <th>date</th>\n",
       "      <th>retweets</th>\n",
       "      <th>favorites</th>\n",
       "    </tr>\n",
       "  </thead>\n",
       "  <tbody>\n",
       "    <tr>\n",
       "      <th>0</th>\n",
       "      <td>1287839317537284096</td>\n",
       "      <td>elonmusk</td>\n",
       "      <td>Whether commercial or government, monopolies a...</td>\n",
       "      <td>2020-07-27 19:56:34+00:00</td>\n",
       "      <td>1848</td>\n",
       "      <td>13043</td>\n",
       "    </tr>\n",
       "    <tr>\n",
       "      <th>1</th>\n",
       "      <td>1287829529721962499</td>\n",
       "      <td>elonmusk</td>\n",
       "      <td>Sounds great</td>\n",
       "      <td>2020-07-27 19:17:41+00:00</td>\n",
       "      <td>135</td>\n",
       "      <td>4722</td>\n",
       "    </tr>\n",
       "    <tr>\n",
       "      <th>2</th>\n",
       "      <td>1287828284852535301</td>\n",
       "      <td>elonmusk</td>\n",
       "      <td>Haha</td>\n",
       "      <td>2020-07-27 19:12:44+00:00</td>\n",
       "      <td>16</td>\n",
       "      <td>1101</td>\n",
       "    </tr>\n",
       "    <tr>\n",
       "      <th>3</th>\n",
       "      <td>1287824348460593154</td>\n",
       "      <td>elonmusk</td>\n",
       "      <td>Das Kapital in a nutshell</td>\n",
       "      <td>2020-07-27 18:57:05+00:00</td>\n",
       "      <td>43854</td>\n",
       "      <td>258196</td>\n",
       "    </tr>\n",
       "    <tr>\n",
       "      <th>4</th>\n",
       "      <td>1287822920966905858</td>\n",
       "      <td>elonmusk</td>\n",
       "      <td>What I like most is their great sense of humor</td>\n",
       "      <td>2020-07-27 18:51:25+00:00</td>\n",
       "      <td>1239</td>\n",
       "      <td>32642</td>\n",
       "    </tr>\n",
       "  </tbody>\n",
       "</table>\n",
       "</div>"
      ],
      "text/plain": [
       "                    id      user  \\\n",
       "0  1287839317537284096  elonmusk   \n",
       "1  1287829529721962499  elonmusk   \n",
       "2  1287828284852535301  elonmusk   \n",
       "3  1287824348460593154  elonmusk   \n",
       "4  1287822920966905858  elonmusk   \n",
       "\n",
       "                                                text  \\\n",
       "0  Whether commercial or government, monopolies a...   \n",
       "1                                       Sounds great   \n",
       "2                                               Haha   \n",
       "3                          Das Kapital in a nutshell   \n",
       "4     What I like most is their great sense of humor   \n",
       "\n",
       "                       date  retweets  favorites  \n",
       "0 2020-07-27 19:56:34+00:00      1848      13043  \n",
       "1 2020-07-27 19:17:41+00:00       135       4722  \n",
       "2 2020-07-27 19:12:44+00:00        16       1101  \n",
       "3 2020-07-27 18:57:05+00:00     43854     258196  \n",
       "4 2020-07-27 18:51:25+00:00      1239      32642  "
      ]
     },
     "execution_count": 7,
     "metadata": {},
     "output_type": "execute_result"
    }
   ],
   "source": [
    "# creating list of tweets with the tweet attributes \n",
    "# specified in the list comprehension\n",
    "text_tweets = [[tw.id,\n",
    "                tw.username,\n",
    "                tw.text,\n",
    "                tw.date,\n",
    "                tw.retweets,\n",
    "                tw.favorites] for tw in tweets]\n",
    "# creating dataframe, assigning column names to list of\n",
    "# tweets corresponding to tweet attributes\n",
    "musk_tweets = pd.DataFrame(text_tweets, \n",
    "              columns = ['id','user', 'text','date','retweets','favorites'])\n",
    "musk_tweets.head()"
   ]
  },
  {
   "cell_type": "code",
   "execution_count": 5,
   "metadata": {},
   "outputs": [],
   "source": [
    "# Save the dataframe in .csv file\n",
    "musk_tweets.to_csv (\"Output Data\\musk_tweets.csv\", encoding = \"utf-8\",index = False, header=True)"
   ]
  }
 ],
 "metadata": {
  "kernelspec": {
   "display_name": "Python 3",
   "language": "python",
   "name": "python3"
  },
  "language_info": {
   "codemirror_mode": {
    "name": "ipython",
    "version": 3
   },
   "file_extension": ".py",
   "mimetype": "text/x-python",
   "name": "python",
   "nbconvert_exporter": "python",
   "pygments_lexer": "ipython3",
   "version": "3.7.6"
  },
  "varInspector": {
   "cols": {
    "lenName": 16,
    "lenType": 16,
    "lenVar": 40
   },
   "kernels_config": {
    "python": {
     "delete_cmd_postfix": "",
     "delete_cmd_prefix": "del ",
     "library": "var_list.py",
     "varRefreshCmd": "print(var_dic_list())"
    },
    "r": {
     "delete_cmd_postfix": ") ",
     "delete_cmd_prefix": "rm(",
     "library": "var_list.r",
     "varRefreshCmd": "cat(var_dic_list()) "
    }
   },
   "types_to_exclude": [
    "module",
    "function",
    "builtin_function_or_method",
    "instance",
    "_Feature"
   ],
   "window_display": false
  }
 },
 "nbformat": 4,
 "nbformat_minor": 2
}
