{
 "cells": [
  {
   "cell_type": "markdown",
   "metadata": {},
   "source": [
    "### Import dependencies"
   ]
  },
  {
   "cell_type": "code",
   "execution_count": 1,
   "metadata": {},
   "outputs": [],
   "source": [
    "# Import the various dependencies and setup\n",
    "import os\n",
    "import csv\n",
    "import pandas as pd\n",
    "from sqlalchemy import create_engine\n",
    "pd.options.mode.chained_assignment = None"
   ]
  },
  {
   "cell_type": "markdown",
   "metadata": {
    "slideshow": {
     "slide_type": "-"
    }
   },
   "source": [
    "### Store CSV data into DataFrame"
   ]
  },
  {
   "cell_type": "code",
   "execution_count": 2,
   "metadata": {},
   "outputs": [
    {
     "data": {
      "text/html": [
       "<div>\n",
       "<style scoped>\n",
       "    .dataframe tbody tr th:only-of-type {\n",
       "        vertical-align: middle;\n",
       "    }\n",
       "\n",
       "    .dataframe tbody tr th {\n",
       "        vertical-align: top;\n",
       "    }\n",
       "\n",
       "    .dataframe thead th {\n",
       "        text-align: right;\n",
       "    }\n",
       "</style>\n",
       "<table border=\"1\" class=\"dataframe\">\n",
       "  <thead>\n",
       "    <tr style=\"text-align: right;\">\n",
       "      <th></th>\n",
       "      <th>Date</th>\n",
       "      <th>Close/Last</th>\n",
       "      <th>Volume</th>\n",
       "      <th>Open</th>\n",
       "      <th>High</th>\n",
       "      <th>Low</th>\n",
       "    </tr>\n",
       "  </thead>\n",
       "  <tbody>\n",
       "    <tr>\n",
       "      <th>0</th>\n",
       "      <td>7/17/20</td>\n",
       "      <td>$1,500.84</td>\n",
       "      <td>9329972</td>\n",
       "      <td>$1,513.45</td>\n",
       "      <td>$1,537.51</td>\n",
       "      <td>$1,490</td>\n",
       "    </tr>\n",
       "    <tr>\n",
       "      <th>1</th>\n",
       "      <td>7/16/20</td>\n",
       "      <td>$1,500.64</td>\n",
       "      <td>14300790</td>\n",
       "      <td>$1,477.16</td>\n",
       "      <td>$1,531.71</td>\n",
       "      <td>$1,466</td>\n",
       "    </tr>\n",
       "  </tbody>\n",
       "</table>\n",
       "</div>"
      ],
      "text/plain": [
       "      Date  Close/Last    Volume        Open        High      Low\n",
       "0  7/17/20  $1,500.84    9329972  $1,513.45   $1,537.51   $1,490 \n",
       "1  7/16/20  $1,500.64   14300790  $1,477.16   $1,531.71   $1,466 "
      ]
     },
     "execution_count": 2,
     "metadata": {},
     "output_type": "execute_result"
    }
   ],
   "source": [
    "# Map the path where the input csv file is located\n",
    "stocks_csv_file = \"Resources/stocks_data.csv\"\n",
    "\n",
    "# Specify the delimiter to read and store the csv file into a Pandas DataFrame\n",
    "stocks_df = pd.read_csv(stocks_csv_file, encoding = \"UTF-8\")\n",
    "\n",
    "# Display the DataFrame columns\n",
    "stocks_df.head(2)"
   ]
  },
  {
   "cell_type": "code",
   "execution_count": 3,
   "metadata": {},
   "outputs": [
    {
     "data": {
      "text/html": [
       "<div>\n",
       "<style scoped>\n",
       "    .dataframe tbody tr th:only-of-type {\n",
       "        vertical-align: middle;\n",
       "    }\n",
       "\n",
       "    .dataframe tbody tr th {\n",
       "        vertical-align: top;\n",
       "    }\n",
       "\n",
       "    .dataframe thead th {\n",
       "        text-align: right;\n",
       "    }\n",
       "</style>\n",
       "<table border=\"1\" class=\"dataframe\">\n",
       "  <thead>\n",
       "    <tr style=\"text-align: right;\">\n",
       "      <th></th>\n",
       "      <th>id</th>\n",
       "      <th>conversation_id</th>\n",
       "      <th>created_at</th>\n",
       "      <th>date</th>\n",
       "      <th>time</th>\n",
       "      <th>timezone</th>\n",
       "      <th>user_id</th>\n",
       "      <th>username</th>\n",
       "      <th>name</th>\n",
       "      <th>place</th>\n",
       "      <th>...</th>\n",
       "      <th>geo</th>\n",
       "      <th>source</th>\n",
       "      <th>user_rt_id</th>\n",
       "      <th>user_rt</th>\n",
       "      <th>retweet_id</th>\n",
       "      <th>reply_to</th>\n",
       "      <th>retweet_date</th>\n",
       "      <th>translate</th>\n",
       "      <th>trans_src</th>\n",
       "      <th>trans_dest</th>\n",
       "    </tr>\n",
       "  </thead>\n",
       "  <tbody>\n",
       "    <tr>\n",
       "      <th>0</th>\n",
       "      <td>1.282940e+18</td>\n",
       "      <td>1.282930e+18</td>\n",
       "      <td>1.594710e+12</td>\n",
       "      <td>7/14/20</td>\n",
       "      <td>7:28:03</td>\n",
       "      <td>UTC</td>\n",
       "      <td>44196397</td>\n",
       "      <td>elonmusk</td>\n",
       "      <td>Elon Musk</td>\n",
       "      <td>NaN</td>\n",
       "      <td>...</td>\n",
       "      <td>NaN</td>\n",
       "      <td>NaN</td>\n",
       "      <td>NaN</td>\n",
       "      <td>NaN</td>\n",
       "      <td>NaN</td>\n",
       "      <td>[{'user_id': '44196397', 'username': 'elonmusk...</td>\n",
       "      <td>NaN</td>\n",
       "      <td>NaN</td>\n",
       "      <td>NaN</td>\n",
       "      <td>NaN</td>\n",
       "    </tr>\n",
       "    <tr>\n",
       "      <th>1</th>\n",
       "      <td>1.282840e+18</td>\n",
       "      <td>1.282800e+18</td>\n",
       "      <td>1.594690e+12</td>\n",
       "      <td>7/14/20</td>\n",
       "      <td>1:10:26</td>\n",
       "      <td>UTC</td>\n",
       "      <td>44196397</td>\n",
       "      <td>elonmusk</td>\n",
       "      <td>Elon Musk</td>\n",
       "      <td>NaN</td>\n",
       "      <td>...</td>\n",
       "      <td>NaN</td>\n",
       "      <td>NaN</td>\n",
       "      <td>NaN</td>\n",
       "      <td>NaN</td>\n",
       "      <td>NaN</td>\n",
       "      <td>[{'user_id': '44196397', 'username': 'elonmusk...</td>\n",
       "      <td>NaN</td>\n",
       "      <td>NaN</td>\n",
       "      <td>NaN</td>\n",
       "      <td>NaN</td>\n",
       "    </tr>\n",
       "  </tbody>\n",
       "</table>\n",
       "<p>2 rows × 34 columns</p>\n",
       "</div>"
      ],
      "text/plain": [
       "             id  conversation_id    created_at     date     time timezone  \\\n",
       "0  1.282940e+18     1.282930e+18  1.594710e+12  7/14/20  7:28:03      UTC   \n",
       "1  1.282840e+18     1.282800e+18  1.594690e+12  7/14/20  1:10:26      UTC   \n",
       "\n",
       "    user_id  username       name  place  ... geo source user_rt_id user_rt  \\\n",
       "0  44196397  elonmusk  Elon Musk    NaN  ... NaN    NaN        NaN     NaN   \n",
       "1  44196397  elonmusk  Elon Musk    NaN  ... NaN    NaN        NaN     NaN   \n",
       "\n",
       "   retweet_id                                           reply_to  \\\n",
       "0         NaN  [{'user_id': '44196397', 'username': 'elonmusk...   \n",
       "1         NaN  [{'user_id': '44196397', 'username': 'elonmusk...   \n",
       "\n",
       "   retweet_date translate trans_src trans_dest  \n",
       "0           NaN       NaN       NaN        NaN  \n",
       "1           NaN       NaN       NaN        NaN  \n",
       "\n",
       "[2 rows x 34 columns]"
      ]
     },
     "execution_count": 3,
     "metadata": {},
     "output_type": "execute_result"
    }
   ],
   "source": [
    "# Map the path where the input csv file is located\n",
    "tweets_csv_file = \"Resources/tweets_data.csv\"\n",
    "\n",
    "# Specify the delimiter to read and store the csv file into a Pandas DataFrame\n",
    "tweets_df = pd.read_csv(tweets_csv_file, encoding = \"UTF-8\")\n",
    "\n",
    "# Display the DataFrame columns\n",
    "tweets_df.head(2)"
   ]
  },
  {
   "cell_type": "markdown",
   "metadata": {},
   "source": [
    "### Clean the DataFrame to only contain select columns"
   ]
  },
  {
   "cell_type": "code",
   "execution_count": 4,
   "metadata": {},
   "outputs": [
    {
     "data": {
      "text/html": [
       "<div>\n",
       "<style scoped>\n",
       "    .dataframe tbody tr th:only-of-type {\n",
       "        vertical-align: middle;\n",
       "    }\n",
       "\n",
       "    .dataframe tbody tr th {\n",
       "        vertical-align: top;\n",
       "    }\n",
       "\n",
       "    .dataframe thead th {\n",
       "        text-align: right;\n",
       "    }\n",
       "</style>\n",
       "<table border=\"1\" class=\"dataframe\">\n",
       "  <thead>\n",
       "    <tr style=\"text-align: right;\">\n",
       "      <th></th>\n",
       "      <th>Date</th>\n",
       "      <th>Close/Last</th>\n",
       "      <th>Open</th>\n",
       "      <th>High</th>\n",
       "      <th>Low</th>\n",
       "    </tr>\n",
       "  </thead>\n",
       "  <tbody>\n",
       "    <tr>\n",
       "      <th>0</th>\n",
       "      <td>7/17/20</td>\n",
       "      <td>$1,500.84</td>\n",
       "      <td>$1,513.45</td>\n",
       "      <td>$1,537.51</td>\n",
       "      <td>$1,490</td>\n",
       "    </tr>\n",
       "    <tr>\n",
       "      <th>1</th>\n",
       "      <td>7/16/20</td>\n",
       "      <td>$1,500.64</td>\n",
       "      <td>$1,477.16</td>\n",
       "      <td>$1,531.71</td>\n",
       "      <td>$1,466</td>\n",
       "    </tr>\n",
       "  </tbody>\n",
       "</table>\n",
       "</div>"
      ],
      "text/plain": [
       "      Date  Close/Last        Open        High      Low\n",
       "0  7/17/20  $1,500.84   $1,513.45   $1,537.51   $1,490 \n",
       "1  7/16/20  $1,500.64   $1,477.16   $1,531.71   $1,466 "
      ]
     },
     "execution_count": 4,
     "metadata": {},
     "output_type": "execute_result"
    }
   ],
   "source": [
    "# Select the columns that are needed for the data transformation\n",
    "stocks_df = stocks_df[[\"Date\", \" Close/Last\", \" Open\", \" High\", \" Low\"]]\n",
    "\n",
    "# Display the DataFrame columns\n",
    "stocks_df.head(2)"
   ]
  },
  {
   "cell_type": "code",
   "execution_count": 5,
   "metadata": {},
   "outputs": [
    {
     "data": {
      "text/html": [
       "<div>\n",
       "<style scoped>\n",
       "    .dataframe tbody tr th:only-of-type {\n",
       "        vertical-align: middle;\n",
       "    }\n",
       "\n",
       "    .dataframe tbody tr th {\n",
       "        vertical-align: top;\n",
       "    }\n",
       "\n",
       "    .dataframe thead th {\n",
       "        text-align: right;\n",
       "    }\n",
       "</style>\n",
       "<table border=\"1\" class=\"dataframe\">\n",
       "  <thead>\n",
       "    <tr style=\"text-align: right;\">\n",
       "      <th></th>\n",
       "      <th>date</th>\n",
       "      <th>tweet</th>\n",
       "    </tr>\n",
       "  </thead>\n",
       "  <tbody>\n",
       "    <tr>\n",
       "      <th>0</th>\n",
       "      <td>7/14/20</td>\n",
       "      <td>Cute</td>\n",
       "    </tr>\n",
       "    <tr>\n",
       "      <th>1</th>\n",
       "      <td>7/14/20</td>\n",
       "      <td>Wow</td>\n",
       "    </tr>\n",
       "  </tbody>\n",
       "</table>\n",
       "</div>"
      ],
      "text/plain": [
       "      date tweet\n",
       "0  7/14/20  Cute\n",
       "1  7/14/20   Wow"
      ]
     },
     "execution_count": 5,
     "metadata": {},
     "output_type": "execute_result"
    }
   ],
   "source": [
    "# Select the columns that are needed for the data transformation\n",
    "tweets_df = tweets_df[[\"date\", \"tweet\"]]\n",
    "\n",
    "# Display the DataFrame columns\n",
    "tweets_df.head(2)"
   ]
  },
  {
   "cell_type": "markdown",
   "metadata": {},
   "source": [
    "### Clean the DataFrame to only contain select rows"
   ]
  },
  {
   "cell_type": "code",
   "execution_count": 6,
   "metadata": {},
   "outputs": [
    {
     "data": {
      "text/html": [
       "<div>\n",
       "<style scoped>\n",
       "    .dataframe tbody tr th:only-of-type {\n",
       "        vertical-align: middle;\n",
       "    }\n",
       "\n",
       "    .dataframe tbody tr th {\n",
       "        vertical-align: top;\n",
       "    }\n",
       "\n",
       "    .dataframe thead th {\n",
       "        text-align: right;\n",
       "    }\n",
       "</style>\n",
       "<table border=\"1\" class=\"dataframe\">\n",
       "  <thead>\n",
       "    <tr style=\"text-align: right;\">\n",
       "      <th></th>\n",
       "      <th>date</th>\n",
       "      <th>tweet</th>\n",
       "    </tr>\n",
       "  </thead>\n",
       "  <tbody>\n",
       "    <tr>\n",
       "      <th>198</th>\n",
       "      <td>7/1/20</td>\n",
       "      <td>Tesla Impact Report (repost). We do everything...</td>\n",
       "    </tr>\n",
       "    <tr>\n",
       "      <th>278</th>\n",
       "      <td>6/21/20</td>\n",
       "      <td>Tesla Bioweapon Defense Mode https://www.tesla...</td>\n",
       "    </tr>\n",
       "  </tbody>\n",
       "</table>\n",
       "</div>"
      ],
      "text/plain": [
       "        date                                              tweet\n",
       "198   7/1/20  Tesla Impact Report (repost). We do everything...\n",
       "278  6/21/20  Tesla Bioweapon Defense Mode https://www.tesla..."
      ]
     },
     "execution_count": 6,
     "metadata": {},
     "output_type": "execute_result"
    }
   ],
   "source": [
    "# Select tweets containing the word tesla\n",
    "tweets_df = tweets_df[tweets_df[\"tweet\"].str.contains(\"tesla\")]\n",
    "\n",
    "# Display the DataFrame columns\n",
    "tweets_df.head(2)"
   ]
  },
  {
   "cell_type": "markdown",
   "metadata": {},
   "source": [
    "### Rename DataFrame columns"
   ]
  },
  {
   "cell_type": "code",
   "execution_count": 7,
   "metadata": {},
   "outputs": [
    {
     "data": {
      "text/plain": [
       "Index(['Date', ' Close/Last', ' Open', ' High', ' Low'], dtype='object')"
      ]
     },
     "execution_count": 7,
     "metadata": {},
     "output_type": "execute_result"
    }
   ],
   "source": [
    "# Display the DataFrame column names\n",
    "stocks_df.columns"
   ]
  },
  {
   "cell_type": "code",
   "execution_count": 8,
   "metadata": {},
   "outputs": [
    {
     "data": {
      "text/html": [
       "<div>\n",
       "<style scoped>\n",
       "    .dataframe tbody tr th:only-of-type {\n",
       "        vertical-align: middle;\n",
       "    }\n",
       "\n",
       "    .dataframe tbody tr th {\n",
       "        vertical-align: top;\n",
       "    }\n",
       "\n",
       "    .dataframe thead th {\n",
       "        text-align: right;\n",
       "    }\n",
       "</style>\n",
       "<table border=\"1\" class=\"dataframe\">\n",
       "  <thead>\n",
       "    <tr style=\"text-align: right;\">\n",
       "      <th></th>\n",
       "      <th>Date</th>\n",
       "      <th>Close</th>\n",
       "      <th>Open</th>\n",
       "      <th>High</th>\n",
       "      <th>Low</th>\n",
       "    </tr>\n",
       "  </thead>\n",
       "  <tbody>\n",
       "    <tr>\n",
       "      <th>0</th>\n",
       "      <td>7/17/20</td>\n",
       "      <td>$1,500.84</td>\n",
       "      <td>$1,513.45</td>\n",
       "      <td>$1,537.51</td>\n",
       "      <td>$1,490</td>\n",
       "    </tr>\n",
       "    <tr>\n",
       "      <th>1</th>\n",
       "      <td>7/16/20</td>\n",
       "      <td>$1,500.64</td>\n",
       "      <td>$1,477.16</td>\n",
       "      <td>$1,531.71</td>\n",
       "      <td>$1,466</td>\n",
       "    </tr>\n",
       "  </tbody>\n",
       "</table>\n",
       "</div>"
      ],
      "text/plain": [
       "      Date       Close        Open        High      Low\n",
       "0  7/17/20  $1,500.84   $1,513.45   $1,537.51   $1,490 \n",
       "1  7/16/20  $1,500.64   $1,477.16   $1,531.71   $1,466 "
      ]
     },
     "execution_count": 8,
     "metadata": {},
     "output_type": "execute_result"
    }
   ],
   "source": [
    "# Rename the columns using \"inplace = True\" to modify the data within the DataFrame\n",
    "stocks_df.rename(columns = {\" Close/Last\":\"Close\", \" Open\":\"Open\", \" High\":\"High\", \" Low\":\"Low\"}, inplace = True)\n",
    "\n",
    "# Display the DataFrame columns\n",
    "stocks_df.head(2)"
   ]
  },
  {
   "cell_type": "code",
   "execution_count": 9,
   "metadata": {},
   "outputs": [
    {
     "data": {
      "text/plain": [
       "Index(['date', 'tweet'], dtype='object')"
      ]
     },
     "execution_count": 9,
     "metadata": {},
     "output_type": "execute_result"
    }
   ],
   "source": [
    "# Display the DataFrame column names\n",
    "tweets_df.columns"
   ]
  },
  {
   "cell_type": "code",
   "execution_count": 10,
   "metadata": {},
   "outputs": [
    {
     "data": {
      "text/html": [
       "<div>\n",
       "<style scoped>\n",
       "    .dataframe tbody tr th:only-of-type {\n",
       "        vertical-align: middle;\n",
       "    }\n",
       "\n",
       "    .dataframe tbody tr th {\n",
       "        vertical-align: top;\n",
       "    }\n",
       "\n",
       "    .dataframe thead th {\n",
       "        text-align: right;\n",
       "    }\n",
       "</style>\n",
       "<table border=\"1\" class=\"dataframe\">\n",
       "  <thead>\n",
       "    <tr style=\"text-align: right;\">\n",
       "      <th></th>\n",
       "      <th>Date</th>\n",
       "      <th>Tweet</th>\n",
       "    </tr>\n",
       "  </thead>\n",
       "  <tbody>\n",
       "    <tr>\n",
       "      <th>198</th>\n",
       "      <td>7/1/20</td>\n",
       "      <td>Tesla Impact Report (repost). We do everything...</td>\n",
       "    </tr>\n",
       "    <tr>\n",
       "      <th>278</th>\n",
       "      <td>6/21/20</td>\n",
       "      <td>Tesla Bioweapon Defense Mode https://www.tesla...</td>\n",
       "    </tr>\n",
       "  </tbody>\n",
       "</table>\n",
       "</div>"
      ],
      "text/plain": [
       "        Date                                              Tweet\n",
       "198   7/1/20  Tesla Impact Report (repost). We do everything...\n",
       "278  6/21/20  Tesla Bioweapon Defense Mode https://www.tesla..."
      ]
     },
     "execution_count": 10,
     "metadata": {},
     "output_type": "execute_result"
    }
   ],
   "source": [
    "# Rename the columns using \"inplace = True\" to modify the data within the DataFrame\n",
    "tweets_df.rename(columns = {\"date\":\"Date\", \"tweet\":\"Tweet\"}, inplace = True)\n",
    "\n",
    "# Display the DataFrame columns\n",
    "tweets_df.head(2)"
   ]
  },
  {
   "cell_type": "markdown",
   "metadata": {},
   "source": [
    "### Clean DataFrame data format"
   ]
  },
  {
   "cell_type": "code",
   "execution_count": 11,
   "metadata": {},
   "outputs": [
    {
     "data": {
      "text/html": [
       "<div>\n",
       "<style scoped>\n",
       "    .dataframe tbody tr th:only-of-type {\n",
       "        vertical-align: middle;\n",
       "    }\n",
       "\n",
       "    .dataframe tbody tr th {\n",
       "        vertical-align: top;\n",
       "    }\n",
       "\n",
       "    .dataframe thead th {\n",
       "        text-align: right;\n",
       "    }\n",
       "</style>\n",
       "<table border=\"1\" class=\"dataframe\">\n",
       "  <thead>\n",
       "    <tr style=\"text-align: right;\">\n",
       "      <th></th>\n",
       "      <th>Date</th>\n",
       "      <th>Close</th>\n",
       "      <th>Open</th>\n",
       "      <th>High</th>\n",
       "      <th>Low</th>\n",
       "    </tr>\n",
       "  </thead>\n",
       "  <tbody>\n",
       "    <tr>\n",
       "      <th>0</th>\n",
       "      <td>7/17/20</td>\n",
       "      <td>$1500.84</td>\n",
       "      <td>$1513.45</td>\n",
       "      <td>$1537.51</td>\n",
       "      <td>$1490</td>\n",
       "    </tr>\n",
       "    <tr>\n",
       "      <th>1</th>\n",
       "      <td>7/16/20</td>\n",
       "      <td>$1500.64</td>\n",
       "      <td>$1477.16</td>\n",
       "      <td>$1531.71</td>\n",
       "      <td>$1466</td>\n",
       "    </tr>\n",
       "  </tbody>\n",
       "</table>\n",
       "</div>"
      ],
      "text/plain": [
       "      Date      Close       Open       High     Low\n",
       "0  7/17/20  $1500.84   $1513.45   $1537.51   $1490 \n",
       "1  7/16/20  $1500.64   $1477.16   $1531.71   $1466 "
      ]
     },
     "execution_count": 11,
     "metadata": {},
     "output_type": "execute_result"
    }
   ],
   "source": [
    "# Replace the commas in the strings with null. The regex (regular expression) should be set to True\n",
    "stocks_df = stocks_df.replace(\",\", \"\", regex = True)\n",
    "\n",
    "# Display the DataFrame columns\n",
    "stocks_df.head(2)"
   ]
  },
  {
   "cell_type": "code",
   "execution_count": 12,
   "metadata": {},
   "outputs": [
    {
     "data": {
      "text/html": [
       "<div>\n",
       "<style scoped>\n",
       "    .dataframe tbody tr th:only-of-type {\n",
       "        vertical-align: middle;\n",
       "    }\n",
       "\n",
       "    .dataframe tbody tr th {\n",
       "        vertical-align: top;\n",
       "    }\n",
       "\n",
       "    .dataframe thead th {\n",
       "        text-align: right;\n",
       "    }\n",
       "</style>\n",
       "<table border=\"1\" class=\"dataframe\">\n",
       "  <thead>\n",
       "    <tr style=\"text-align: right;\">\n",
       "      <th></th>\n",
       "      <th>Date</th>\n",
       "      <th>Close</th>\n",
       "      <th>Open</th>\n",
       "      <th>High</th>\n",
       "      <th>Low</th>\n",
       "    </tr>\n",
       "  </thead>\n",
       "  <tbody>\n",
       "    <tr>\n",
       "      <th>0</th>\n",
       "      <td>7/17/20</td>\n",
       "      <td>1500.84</td>\n",
       "      <td>1513.45</td>\n",
       "      <td>1537.51</td>\n",
       "      <td>1490.0</td>\n",
       "    </tr>\n",
       "    <tr>\n",
       "      <th>1</th>\n",
       "      <td>7/16/20</td>\n",
       "      <td>1500.64</td>\n",
       "      <td>1477.16</td>\n",
       "      <td>1531.71</td>\n",
       "      <td>1466.0</td>\n",
       "    </tr>\n",
       "  </tbody>\n",
       "</table>\n",
       "</div>"
      ],
      "text/plain": [
       "      Date    Close     Open     High     Low\n",
       "0  7/17/20  1500.84  1513.45  1537.51  1490.0\n",
       "1  7/16/20  1500.64  1477.16  1531.71  1466.0"
      ]
     },
     "execution_count": 12,
     "metadata": {},
     "output_type": "execute_result"
    }
   ],
   "source": [
    "# Replace the $ symbol using left strip which removes the leading character in strings\n",
    "# Using astype cast the resulting strings to a float data type\n",
    "stocks_df[\"Close\"] = stocks_df[\"Close\"].str.lstrip(\"$\").astype(float)\n",
    "stocks_df[\"Open\"] = stocks_df[\"Open\"].str.lstrip(\"$\").astype(float)\n",
    "stocks_df[\"High\"] = stocks_df[\"High\"].str.lstrip(\"$\").astype(float)\n",
    "stocks_df[\"Low\"] = stocks_df[\"Low\"].str.lstrip(\"$\").astype(float)\n",
    "\n",
    "# Display the DataFrame columns\n",
    "stocks_df.head(2)"
   ]
  },
  {
   "cell_type": "markdown",
   "metadata": {},
   "source": [
    "### Add calculated columns to DataFrame"
   ]
  },
  {
   "cell_type": "code",
   "execution_count": 13,
   "metadata": {
    "scrolled": true
   },
   "outputs": [
    {
     "data": {
      "text/html": [
       "<div>\n",
       "<style scoped>\n",
       "    .dataframe tbody tr th:only-of-type {\n",
       "        vertical-align: middle;\n",
       "    }\n",
       "\n",
       "    .dataframe tbody tr th {\n",
       "        vertical-align: top;\n",
       "    }\n",
       "\n",
       "    .dataframe thead th {\n",
       "        text-align: right;\n",
       "    }\n",
       "</style>\n",
       "<table border=\"1\" class=\"dataframe\">\n",
       "  <thead>\n",
       "    <tr style=\"text-align: right;\">\n",
       "      <th></th>\n",
       "      <th>Date</th>\n",
       "      <th>Close</th>\n",
       "      <th>Open</th>\n",
       "      <th>High</th>\n",
       "      <th>Low</th>\n",
       "      <th>Open_Close</th>\n",
       "      <th>High_Low</th>\n",
       "    </tr>\n",
       "  </thead>\n",
       "  <tbody>\n",
       "    <tr>\n",
       "      <th>0</th>\n",
       "      <td>7/17/20</td>\n",
       "      <td>1500.84</td>\n",
       "      <td>1513.45</td>\n",
       "      <td>1537.51</td>\n",
       "      <td>1490.0</td>\n",
       "      <td>-12.61</td>\n",
       "      <td>47.51</td>\n",
       "    </tr>\n",
       "    <tr>\n",
       "      <th>1</th>\n",
       "      <td>7/16/20</td>\n",
       "      <td>1500.64</td>\n",
       "      <td>1477.16</td>\n",
       "      <td>1531.71</td>\n",
       "      <td>1466.0</td>\n",
       "      <td>23.48</td>\n",
       "      <td>65.71</td>\n",
       "    </tr>\n",
       "  </tbody>\n",
       "</table>\n",
       "</div>"
      ],
      "text/plain": [
       "      Date    Close     Open     High     Low  Open_Close  High_Low\n",
       "0  7/17/20  1500.84  1513.45  1537.51  1490.0      -12.61     47.51\n",
       "1  7/16/20  1500.64  1477.16  1531.71  1466.0       23.48     65.71"
      ]
     },
     "execution_count": 13,
     "metadata": {},
     "output_type": "execute_result"
    }
   ],
   "source": [
    "# Add a new column \"Open_Close\" by calculating the variance between the Closing and Opening stock values\n",
    "stocks_df[\"Open_Close\"] = stocks_df[\"Close\"] - stocks_df[\"Open\"]\n",
    "\n",
    "# Add a new column \"High_Low\" by calculating the variance between the High and Low stock values\n",
    "stocks_df[\"High_Low\"] = stocks_df[\"High\"] - stocks_df[\"Low\"]\n",
    "\n",
    "# Display the DataFrame columns\n",
    "stocks_df.head(2)"
   ]
  },
  {
   "cell_type": "markdown",
   "metadata": {},
   "source": [
    "### Reset DataFrame index"
   ]
  },
  {
   "cell_type": "code",
   "execution_count": 14,
   "metadata": {},
   "outputs": [
    {
     "data": {
      "text/html": [
       "<div>\n",
       "<style scoped>\n",
       "    .dataframe tbody tr th:only-of-type {\n",
       "        vertical-align: middle;\n",
       "    }\n",
       "\n",
       "    .dataframe tbody tr th {\n",
       "        vertical-align: top;\n",
       "    }\n",
       "\n",
       "    .dataframe thead th {\n",
       "        text-align: right;\n",
       "    }\n",
       "</style>\n",
       "<table border=\"1\" class=\"dataframe\">\n",
       "  <thead>\n",
       "    <tr style=\"text-align: right;\">\n",
       "      <th></th>\n",
       "      <th>Date</th>\n",
       "      <th>Close</th>\n",
       "      <th>Open</th>\n",
       "      <th>High</th>\n",
       "      <th>Low</th>\n",
       "      <th>Open_Close</th>\n",
       "      <th>High_Low</th>\n",
       "    </tr>\n",
       "  </thead>\n",
       "  <tbody>\n",
       "    <tr>\n",
       "      <th>0</th>\n",
       "      <td>7/17/20</td>\n",
       "      <td>1500.84</td>\n",
       "      <td>1513.45</td>\n",
       "      <td>1537.51</td>\n",
       "      <td>1490.0</td>\n",
       "      <td>-12.61</td>\n",
       "      <td>47.51</td>\n",
       "    </tr>\n",
       "    <tr>\n",
       "      <th>1</th>\n",
       "      <td>7/16/20</td>\n",
       "      <td>1500.64</td>\n",
       "      <td>1477.16</td>\n",
       "      <td>1531.71</td>\n",
       "      <td>1466.0</td>\n",
       "      <td>23.48</td>\n",
       "      <td>65.71</td>\n",
       "    </tr>\n",
       "  </tbody>\n",
       "</table>\n",
       "</div>"
      ],
      "text/plain": [
       "      Date    Close     Open     High     Low  Open_Close  High_Low\n",
       "0  7/17/20  1500.84  1513.45  1537.51  1490.0      -12.61     47.51\n",
       "1  7/16/20  1500.64  1477.16  1531.71  1466.0       23.48     65.71"
      ]
     },
     "execution_count": 14,
     "metadata": {},
     "output_type": "execute_result"
    }
   ],
   "source": [
    "# Reset the index of the DataFrame using the drop parameter to avoid the old index being added as a column\n",
    "stocks_df.reset_index(drop = True)\n",
    "\n",
    "# Display the DataFrame columns\n",
    "stocks_df.head(2)"
   ]
  },
  {
   "cell_type": "code",
   "execution_count": 15,
   "metadata": {},
   "outputs": [
    {
     "data": {
      "text/html": [
       "<div>\n",
       "<style scoped>\n",
       "    .dataframe tbody tr th:only-of-type {\n",
       "        vertical-align: middle;\n",
       "    }\n",
       "\n",
       "    .dataframe tbody tr th {\n",
       "        vertical-align: top;\n",
       "    }\n",
       "\n",
       "    .dataframe thead th {\n",
       "        text-align: right;\n",
       "    }\n",
       "</style>\n",
       "<table border=\"1\" class=\"dataframe\">\n",
       "  <thead>\n",
       "    <tr style=\"text-align: right;\">\n",
       "      <th></th>\n",
       "      <th>Date</th>\n",
       "      <th>Tweet</th>\n",
       "    </tr>\n",
       "  </thead>\n",
       "  <tbody>\n",
       "    <tr>\n",
       "      <th>198</th>\n",
       "      <td>7/1/20</td>\n",
       "      <td>Tesla Impact Report (repost). We do everything...</td>\n",
       "    </tr>\n",
       "    <tr>\n",
       "      <th>278</th>\n",
       "      <td>6/21/20</td>\n",
       "      <td>Tesla Bioweapon Defense Mode https://www.tesla...</td>\n",
       "    </tr>\n",
       "  </tbody>\n",
       "</table>\n",
       "</div>"
      ],
      "text/plain": [
       "        Date                                              Tweet\n",
       "198   7/1/20  Tesla Impact Report (repost). We do everything...\n",
       "278  6/21/20  Tesla Bioweapon Defense Mode https://www.tesla..."
      ]
     },
     "execution_count": 15,
     "metadata": {},
     "output_type": "execute_result"
    }
   ],
   "source": [
    "# Reset the index of the DataFrame using the drop parameter to avoid the old index being added as a column\n",
    "tweets_df.reset_index(drop = True)\n",
    "\n",
    "# Display the DataFrame columns\n",
    "tweets_df.head(2)"
   ]
  },
  {
   "cell_type": "markdown",
   "metadata": {},
   "source": [
    "### Combine DataFrame"
   ]
  },
  {
   "cell_type": "code",
   "execution_count": 16,
   "metadata": {
    "scrolled": true
   },
   "outputs": [
    {
     "data": {
      "text/html": [
       "<div>\n",
       "<style scoped>\n",
       "    .dataframe tbody tr th:only-of-type {\n",
       "        vertical-align: middle;\n",
       "    }\n",
       "\n",
       "    .dataframe tbody tr th {\n",
       "        vertical-align: top;\n",
       "    }\n",
       "\n",
       "    .dataframe thead th {\n",
       "        text-align: right;\n",
       "    }\n",
       "</style>\n",
       "<table border=\"1\" class=\"dataframe\">\n",
       "  <thead>\n",
       "    <tr style=\"text-align: right;\">\n",
       "      <th></th>\n",
       "      <th>Date</th>\n",
       "      <th>Close</th>\n",
       "      <th>Open</th>\n",
       "      <th>High</th>\n",
       "      <th>Low</th>\n",
       "      <th>Open_Close</th>\n",
       "      <th>High_Low</th>\n",
       "      <th>Tweet</th>\n",
       "    </tr>\n",
       "  </thead>\n",
       "  <tbody>\n",
       "    <tr>\n",
       "      <th>0</th>\n",
       "      <td>7/1/20</td>\n",
       "      <td>1119.63</td>\n",
       "      <td>1083.00</td>\n",
       "      <td>1135.33</td>\n",
       "      <td>1080.5</td>\n",
       "      <td>36.63</td>\n",
       "      <td>54.83</td>\n",
       "      <td>Tesla Impact Report (repost). We do everything...</td>\n",
       "    </tr>\n",
       "    <tr>\n",
       "      <th>1</th>\n",
       "      <td>6/15/20</td>\n",
       "      <td>990.90</td>\n",
       "      <td>917.79</td>\n",
       "      <td>998.84</td>\n",
       "      <td>908.5</td>\n",
       "      <td>73.11</td>\n",
       "      <td>90.34</td>\n",
       "      <td>Tesla Model S now first ever electric vehicle ...</td>\n",
       "    </tr>\n",
       "  </tbody>\n",
       "</table>\n",
       "</div>"
      ],
      "text/plain": [
       "      Date    Close     Open     High     Low  Open_Close  High_Low  \\\n",
       "0   7/1/20  1119.63  1083.00  1135.33  1080.5       36.63     54.83   \n",
       "1  6/15/20   990.90   917.79   998.84   908.5       73.11     90.34   \n",
       "\n",
       "                                               Tweet  \n",
       "0  Tesla Impact Report (repost). We do everything...  \n",
       "1  Tesla Model S now first ever electric vehicle ...  "
      ]
     },
     "execution_count": 16,
     "metadata": {},
     "output_type": "execute_result"
    }
   ],
   "source": [
    "# Merge the two DataFrames using an inner join with \"Date\" as the key\n",
    "tesla_df = pd.merge(stocks_df, tweets_df, how = \"inner\", on = \"Date\")\n",
    "\n",
    "# Display the DataFrame columns\n",
    "tesla_df.head(2)"
   ]
  },
  {
   "cell_type": "markdown",
   "metadata": {},
   "source": [
    "### Store JSON data into a DataFrame"
   ]
  },
  {
   "cell_type": "code",
   "execution_count": 17,
   "metadata": {},
   "outputs": [],
   "source": [
    "# json_file = \"../Resources/customer_location.json\"\n",
    "# customer_location_df = pd.read_json(json_file)\n",
    "# customer_location_df.head()"
   ]
  },
  {
   "cell_type": "markdown",
   "metadata": {},
   "source": [
    "### Clean DataFrame"
   ]
  },
  {
   "cell_type": "code",
   "execution_count": 18,
   "metadata": {},
   "outputs": [],
   "source": [
    "# new_customer_location_df = customer_location_df[[\"id\", \"address\", \"us_state\"]].copy()\n",
    "# new_customer_location_df.head()"
   ]
  },
  {
   "cell_type": "markdown",
   "metadata": {},
   "source": [
    "### Connect to local database"
   ]
  },
  {
   "cell_type": "code",
   "execution_count": 19,
   "metadata": {},
   "outputs": [],
   "source": [
    "# rds_connection_string = \"<insert user name>:<insert password>@localhost:5432/customer_db\"\n",
    "# engine = create_engine(f'postgresql://{rds_connection_string}')"
   ]
  },
  {
   "cell_type": "markdown",
   "metadata": {},
   "source": [
    "### Check for tables"
   ]
  },
  {
   "cell_type": "code",
   "execution_count": 20,
   "metadata": {},
   "outputs": [],
   "source": [
    "# engine.table_names()"
   ]
  },
  {
   "cell_type": "markdown",
   "metadata": {},
   "source": [
    "### Use pandas to load csv converted DataFrame into database"
   ]
  },
  {
   "cell_type": "code",
   "execution_count": 21,
   "metadata": {},
   "outputs": [],
   "source": [
    "# new_customer_data_df.to_sql(name='customer_name', con=engine, if_exists='append', index=False)"
   ]
  },
  {
   "cell_type": "markdown",
   "metadata": {},
   "source": [
    "### Use pandas to load json converted DataFrame into database"
   ]
  },
  {
   "cell_type": "code",
   "execution_count": 22,
   "metadata": {},
   "outputs": [],
   "source": [
    "# new_customer_location_df.to_sql(name='customer_location', con=engine, if_exists='append', index=False)"
   ]
  },
  {
   "cell_type": "markdown",
   "metadata": {},
   "source": [
    "### Confirm data has been added by querying the customer_name table\n",
    "* NOTE: can also check using pgAdmin"
   ]
  },
  {
   "cell_type": "code",
   "execution_count": 23,
   "metadata": {},
   "outputs": [],
   "source": [
    "# pd.read_sql_query('select * from customer_name', con=engine).head()"
   ]
  },
  {
   "cell_type": "markdown",
   "metadata": {},
   "source": [
    "### Confirm data has been added by querying the customer_location table"
   ]
  },
  {
   "cell_type": "code",
   "execution_count": 24,
   "metadata": {},
   "outputs": [],
   "source": [
    "# pd.read_sql_query('select * from customer_location', con=engine).head()"
   ]
  }
 ],
 "metadata": {
  "kernelspec": {
   "display_name": "Python 3",
   "language": "python",
   "name": "python3"
  },
  "language_info": {
   "codemirror_mode": {
    "name": "ipython",
    "version": 3
   },
   "file_extension": ".py",
   "mimetype": "text/x-python",
   "name": "python",
   "nbconvert_exporter": "python",
   "pygments_lexer": "ipython3",
   "version": "3.7.6"
  },
  "nteract": {
   "version": "0.12.3"
  }
 },
 "nbformat": 4,
 "nbformat_minor": 2
}
