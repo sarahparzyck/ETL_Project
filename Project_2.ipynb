{
 "cells": [
  {
   "cell_type": "code",
   "execution_count": 1,
   "metadata": {},
   "outputs": [],
   "source": [
    "import pandas as pd\n",
    "from sqlalchemy import create_engine\n",
    "pd.options.mode.chained_assignment = None"
   ]
  },
  {
   "cell_type": "code",
   "execution_count": null,
   "metadata": {},
   "outputs": [],
   "source": [
    "csv_file = \"Resources/tweets_data.csv\"\n",
    "elon_musk_df = pd.read_csv(csv_file)\n",
    "elon_musk_df.head()"
   ]
  },
  {
   "cell_type": "code",
   "execution_count": null,
   "metadata": {},
   "outputs": [],
   "source": [
    "elon_musk_tweet_df = elon_musk_df[['date', 'tweet']]\n",
    "elon_musk_tweet_df.head()"
   ]
  },
  {
   "cell_type": "code",
   "execution_count": 2,
   "metadata": {},
   "outputs": [
    {
     "data": {
      "text/html": [
       "<div>\n",
       "<style scoped>\n",
       "    .dataframe tbody tr th:only-of-type {\n",
       "        vertical-align: middle;\n",
       "    }\n",
       "\n",
       "    .dataframe tbody tr th {\n",
       "        vertical-align: top;\n",
       "    }\n",
       "\n",
       "    .dataframe thead th {\n",
       "        text-align: right;\n",
       "    }\n",
       "</style>\n",
       "<table border=\"1\" class=\"dataframe\">\n",
       "  <thead>\n",
       "    <tr style=\"text-align: right;\">\n",
       "      <th></th>\n",
       "      <th>Date</th>\n",
       "      <th>Close/Last</th>\n",
       "      <th>Volume</th>\n",
       "      <th>Open</th>\n",
       "      <th>High</th>\n",
       "      <th>Low</th>\n",
       "    </tr>\n",
       "  </thead>\n",
       "  <tbody>\n",
       "    <tr>\n",
       "      <th>0</th>\n",
       "      <td>7/17/20</td>\n",
       "      <td>$1,500.84</td>\n",
       "      <td>9329972</td>\n",
       "      <td>$1,513.45</td>\n",
       "      <td>$1,537.51</td>\n",
       "      <td>$1,490</td>\n",
       "    </tr>\n",
       "    <tr>\n",
       "      <th>1</th>\n",
       "      <td>7/16/20</td>\n",
       "      <td>$1,500.64</td>\n",
       "      <td>14300790</td>\n",
       "      <td>$1,477.16</td>\n",
       "      <td>$1,531.71</td>\n",
       "      <td>$1,466</td>\n",
       "    </tr>\n",
       "  </tbody>\n",
       "</table>\n",
       "</div>"
      ],
      "text/plain": [
       "      Date  Close/Last    Volume        Open        High      Low\n",
       "0  7/17/20  $1,500.84    9329972  $1,513.45   $1,537.51   $1,490 \n",
       "1  7/16/20  $1,500.64   14300790  $1,477.16   $1,531.71   $1,466 "
      ]
     },
     "execution_count": 2,
     "metadata": {},
     "output_type": "execute_result"
    }
   ],
   "source": [
    "csv_file_2 = \"Resources/stocks_data.csv\"\n",
    "tesla_df = pd.read_csv(csv_file_2)\n",
    "tesla_df.head(2)"
   ]
  },
  {
   "cell_type": "code",
   "execution_count": 3,
   "metadata": {},
   "outputs": [
    {
     "data": {
      "text/plain": [
       "Index(['Date', ' Close/Last', ' Volume', ' Open', ' High', ' Low'], dtype='object')"
      ]
     },
     "execution_count": 3,
     "metadata": {},
     "output_type": "execute_result"
    }
   ],
   "source": [
    "tesla_df.columns"
   ]
  },
  {
   "cell_type": "code",
   "execution_count": null,
   "metadata": {
    "scrolled": true
   },
   "outputs": [],
   "source": [
    "tesla_df.reset_index(drop=True)"
   ]
  },
  {
   "cell_type": "code",
   "execution_count": null,
   "metadata": {},
   "outputs": [],
   "source": [
    "tesla_stock_df = tesla_df[['Date', ' Close/Last', ' Open', ' High', ' Low']]\n",
    "tesla_stock_df.head()"
   ]
  },
  {
   "cell_type": "code",
   "execution_count": null,
   "metadata": {},
   "outputs": [],
   "source": [
    "tesla_stock_df.rename(columns={'Date':'date', ' Close/Last':'Close', ' Open':'Open', ' High':'High', ' Low':'Low'},inplace=True)\n",
    "tesla_stock_df.head()"
   ]
  },
  {
   "cell_type": "code",
   "execution_count": null,
   "metadata": {},
   "outputs": [],
   "source": [
    "tesla_stock_df['Close']=tesla_stock_df['Close'].str.lstrip('$').str.rstrip(' ').replace(',','')\n",
    "tesla_stock_df=tesla_stock_df.replace(',','', regex=True)\n",
    "tesla_stock_df['Close']=tesla_stock_df['Close'].astype(float)"
   ]
  },
  {
   "cell_type": "code",
   "execution_count": null,
   "metadata": {},
   "outputs": [],
   "source": [
    "tesla_stock_df['Open']=tesla_stock_df['Open'].str.lstrip('$').str.rstrip(' ').replace(',','')\n",
    "tesla_stock_df=tesla_stock_df.replace(',','', regex=True)\n",
    "tesla_stock_df['Open']=tesla_stock_df['Open'].astype(float)"
   ]
  },
  {
   "cell_type": "code",
   "execution_count": null,
   "metadata": {},
   "outputs": [],
   "source": [
    "tesla_stock_df['High']=tesla_stock_df['High'].str.lstrip('$').str.rstrip(' ').replace(',','')\n",
    "tesla_stock_df=tesla_stock_df.replace(',','', regex=True)\n",
    "tesla_stock_df['High']=tesla_stock_df['High'].astype(float)"
   ]
  },
  {
   "cell_type": "code",
   "execution_count": null,
   "metadata": {},
   "outputs": [],
   "source": [
    "tesla_stock_df['Low']=tesla_stock_df['Low'].str.lstrip('$').str.rstrip(' ')\n",
    "tesla_stock_df=tesla_stock_df.replace(',','', regex=True)\n",
    "tesla_stock_df['Low']=tesla_stock_df['Low'].astype(float)"
   ]
  },
  {
   "cell_type": "code",
   "execution_count": null,
   "metadata": {},
   "outputs": [],
   "source": [
    "tesla_stock_df.dtypes"
   ]
  },
  {
   "cell_type": "code",
   "execution_count": null,
   "metadata": {},
   "outputs": [],
   "source": [
    "tesla_stock_df['Open_Close']=tesla_stock_df['Open']-tesla_stock_df['Close']\n",
    "tesla_stock_df.head()"
   ]
  },
  {
   "cell_type": "code",
   "execution_count": null,
   "metadata": {},
   "outputs": [],
   "source": [
    "tesla_stock_df['High_Low']=tesla_stock_df['High']-tesla_stock_df['Low']\n",
    "tesla_stock_df.head()"
   ]
  },
  {
   "cell_type": "code",
   "execution_count": null,
   "metadata": {},
   "outputs": [],
   "source": [
    "elon_musk_tweet_df.head()"
   ]
  },
  {
   "cell_type": "code",
   "execution_count": null,
   "metadata": {},
   "outputs": [],
   "source": [
    "elon_tweet_df=elon_musk_tweet_df[elon_musk_tweet_df['tweet'].str.contains(\"tesla\")]\n",
    "elon_tweet_df"
   ]
  },
  {
   "cell_type": "code",
   "execution_count": null,
   "metadata": {},
   "outputs": [],
   "source": [
    "joined_data_df=pd.merge(elon_tweet_df,tesla_stock_df,how='inner',on='date')\n",
    "joined_data_df"
   ]
  }
 ],
 "metadata": {
  "kernelspec": {
   "display_name": "Python 3",
   "language": "python",
   "name": "python3"
  },
  "language_info": {
   "codemirror_mode": {
    "name": "ipython",
    "version": 3
   },
   "file_extension": ".py",
   "mimetype": "text/x-python",
   "name": "python",
   "nbconvert_exporter": "python",
   "pygments_lexer": "ipython3",
   "version": "3.7.6"
  }
 },
 "nbformat": 4,
 "nbformat_minor": 4
}
