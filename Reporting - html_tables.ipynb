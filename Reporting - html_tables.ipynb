{
 "cells": [
  {
   "cell_type": "markdown",
   "metadata": {},
   "source": [
    "# Create HTML tables from csv files"
   ]
  },
  {
   "cell_type": "code",
   "execution_count": null,
   "metadata": {},
   "outputs": [],
   "source": [
    "# Import dependencies\n",
    "import pandas as pd"
   ]
  },
  {
   "cell_type": "code",
   "execution_count": 1,
   "metadata": {},
   "outputs": [],
   "source": [
    "\n",
    "path1 = \"Output Data/musk_tweets.csv\"\n",
    "path2 = \"Output Data/tesla_stocks.csv\"\n",
    "path3 = \"Output Data/tesla_combined.csv\""
   ]
  },
  {
   "cell_type": "markdown",
   "metadata": {},
   "source": [
    "## Call csv files"
   ]
  },
  {
   "cell_type": "code",
   "execution_count": 4,
   "metadata": {},
   "outputs": [],
   "source": [
    "\n",
    "musk_tweets = pd.read_csv(path1)\n",
    "tesla_stocks = pd.read_csv(path2)\n",
    "tesla_combined = pd.read_csv(path3)"
   ]
  },
  {
   "cell_type": "markdown",
   "metadata": {},
   "source": [
    "## 1st table of tweets"
   ]
  },
  {
   "cell_type": "code",
   "execution_count": 9,
   "metadata": {},
   "outputs": [
    {
     "name": "stdout",
     "output_type": "stream",
     "text": [
      "<table border=\"1\" class=\"dataframe\">\n",
      "  <thead>\n",
      "    <tr style=\"text-align: right;\">\n",
      "      <th></th>\n",
      "      <th>id</th>\n",
      "      <th>user</th>\n",
      "      <th>text</th>\n",
      "      <th>date</th>\n",
      "      <th>retweets</th>\n",
      "      <th>favorites</th>\n",
      "    </tr>\n",
      "  </thead>\n",
      "  <tbody>\n",
      "    <tr>\n",
      "      <th>0</th>\n",
      "      <td>1287839317537284096</td>\n",
      "      <td>elonmusk</td>\n",
      "      <td>Whether commercial or government, monopolies are bad for the people</td>\n",
      "      <td>2020-07-27 19:56:34+00:00</td>\n",
      "      <td>1848</td>\n",
      "      <td>13043</td>\n",
      "    </tr>\n",
      "    <tr>\n",
      "      <th>1</th>\n",
      "      <td>1287829529721962499</td>\n",
      "      <td>elonmusk</td>\n",
      "      <td>Sounds great</td>\n",
      "      <td>2020-07-27 19:17:41+00:00</td>\n",
      "      <td>135</td>\n",
      "      <td>4722</td>\n",
      "    </tr>\n",
      "    <tr>\n",
      "      <th>2</th>\n",
      "      <td>1287828284852535301</td>\n",
      "      <td>elonmusk</td>\n",
      "      <td>Haha</td>\n",
      "      <td>2020-07-27 19:12:44+00:00</td>\n",
      "      <td>16</td>\n",
      "      <td>1101</td>\n",
      "    </tr>\n",
      "    <tr>\n",
      "      <th>3</th>\n",
      "      <td>1287824348460593154</td>\n",
      "      <td>elonmusk</td>\n",
      "      <td>Das Kapital in a nutshell</td>\n",
      "      <td>2020-07-27 18:57:05+00:00</td>\n",
      "      <td>43854</td>\n",
      "      <td>258196</td>\n",
      "    </tr>\n",
      "    <tr>\n",
      "      <th>4</th>\n",
      "      <td>1287822920966905858</td>\n",
      "      <td>elonmusk</td>\n",
      "      <td>What I like most is their great sense of humor</td>\n",
      "      <td>2020-07-27 18:51:25+00:00</td>\n",
      "      <td>1239</td>\n",
      "      <td>32642</td>\n",
      "    </tr>\n",
      "  </tbody>\n",
      "</table>\n"
     ]
    }
   ],
   "source": [
    "musk_tweets = musk_tweets.head()\n",
    "musk_tweets_html = musk_tweets.head().to_html()\n",
    "print(musk_tweets_html)"
   ]
  },
  {
   "cell_type": "markdown",
   "metadata": {},
   "source": [
    "## 2nd table of stock prices"
   ]
  },
  {
   "cell_type": "code",
   "execution_count": 10,
   "metadata": {},
   "outputs": [
    {
     "name": "stdout",
     "output_type": "stream",
     "text": [
      "<table border=\"1\" class=\"dataframe\">\n",
      "  <thead>\n",
      "    <tr style=\"text-align: right;\">\n",
      "      <th></th>\n",
      "      <th>Date</th>\n",
      "      <th>Open</th>\n",
      "      <th>High</th>\n",
      "      <th>Low</th>\n",
      "      <th>Close</th>\n",
      "      <th>Adj Close</th>\n",
      "      <th>Volume</th>\n",
      "    </tr>\n",
      "  </thead>\n",
      "  <tbody>\n",
      "    <tr>\n",
      "      <th>0</th>\n",
      "      <td>Jul 27, 2020</td>\n",
      "      <td>1,435.00</td>\n",
      "      <td>1,547.94</td>\n",
      "      <td>1,413.00</td>\n",
      "      <td>1,539.60</td>\n",
      "      <td>1,539.60</td>\n",
      "      <td>16,048,700</td>\n",
      "    </tr>\n",
      "    <tr>\n",
      "      <th>1</th>\n",
      "      <td>Jul 24, 2020</td>\n",
      "      <td>1,416.01</td>\n",
      "      <td>1,465.00</td>\n",
      "      <td>1,366.54</td>\n",
      "      <td>1,417.00</td>\n",
      "      <td>1,417.00</td>\n",
      "      <td>19,396,600</td>\n",
      "    </tr>\n",
      "    <tr>\n",
      "      <th>2</th>\n",
      "      <td>Jul 23, 2020</td>\n",
      "      <td>1,678.95</td>\n",
      "      <td>1,689.00</td>\n",
      "      <td>1,480.77</td>\n",
      "      <td>1,513.07</td>\n",
      "      <td>1,513.07</td>\n",
      "      <td>24,328,500</td>\n",
      "    </tr>\n",
      "    <tr>\n",
      "      <th>3</th>\n",
      "      <td>Jul 22, 2020</td>\n",
      "      <td>1,599.00</td>\n",
      "      <td>1,626.42</td>\n",
      "      <td>1,562.00</td>\n",
      "      <td>1,592.33</td>\n",
      "      <td>1,592.33</td>\n",
      "      <td>14,161,100</td>\n",
      "    </tr>\n",
      "    <tr>\n",
      "      <th>4</th>\n",
      "      <td>Jul 21, 2020</td>\n",
      "      <td>1,639.93</td>\n",
      "      <td>1,675.00</td>\n",
      "      <td>1,558.00</td>\n",
      "      <td>1,568.36</td>\n",
      "      <td>1,568.36</td>\n",
      "      <td>16,157,300</td>\n",
      "    </tr>\n",
      "  </tbody>\n",
      "</table>\n"
     ]
    }
   ],
   "source": [
    "stocks_table = tesla_stocks.head().to_html()\n",
    "print(stocks_table)"
   ]
  },
  {
   "cell_type": "markdown",
   "metadata": {},
   "source": [
    "## 3rd table of combined data"
   ]
  },
  {
   "cell_type": "code",
   "execution_count": 5,
   "metadata": {},
   "outputs": [
    {
     "name": "stdout",
     "output_type": "stream",
     "text": [
      "<table border=\"1\" class=\"dataframe\">\n",
      "  <thead>\n",
      "    <tr style=\"text-align: right;\">\n",
      "      <th></th>\n",
      "      <th>Date</th>\n",
      "      <th>Close</th>\n",
      "      <th>Open</th>\n",
      "      <th>High</th>\n",
      "      <th>Low</th>\n",
      "      <th>Open_Close</th>\n",
      "      <th>High_Low</th>\n",
      "      <th>Tweet</th>\n",
      "    </tr>\n",
      "  </thead>\n",
      "  <tbody>\n",
      "    <tr>\n",
      "      <th>0</th>\n",
      "      <td>2020-07-24</td>\n",
      "      <td>1417.00</td>\n",
      "      <td>1416.01</td>\n",
      "      <td>1465.0</td>\n",
      "      <td>1366.54</td>\n",
      "      <td>0.99</td>\n",
      "      <td>98.46</td>\n",
      "      <td>Tesla solar panels are $1.49/Watt</td>\n",
      "    </tr>\n",
      "    <tr>\n",
      "      <th>1</th>\n",
      "      <td>2020-07-24</td>\n",
      "      <td>1417.00</td>\n",
      "      <td>1416.01</td>\n",
      "      <td>1465.0</td>\n",
      "      <td>1366.54</td>\n",
      "      <td>0.99</td>\n",
      "      <td>98.46</td>\n",
      "      <td>Thank you on behalf of the Tesla team. We look forward to building Giga Texas!</td>\n",
      "    </tr>\n",
      "    <tr>\n",
      "      <th>2</th>\n",
      "      <td>2020-07-23</td>\n",
      "      <td>1513.07</td>\n",
      "      <td>1678.95</td>\n",
      "      <td>1689.0</td>\n",
      "      <td>1480.77</td>\n",
      "      <td>-165.88</td>\n",
      "      <td>208.23</td>\n",
      "      <td>We are actually looking for revolutionary actuaries for Tesla Insurance! Please inquire, if interested.</td>\n",
      "    </tr>\n",
      "    <tr>\n",
      "      <th>3</th>\n",
      "      <td>2020-07-15</td>\n",
      "      <td>1546.01</td>\n",
      "      <td>1543.00</td>\n",
      "      <td>1550.0</td>\n",
      "      <td>1457.00</td>\n",
      "      <td>3.01</td>\n",
      "      <td>93.00</td>\n",
      "      <td>Great work by Tesla software engineering</td>\n",
      "    </tr>\n",
      "    <tr>\n",
      "      <th>4</th>\n",
      "      <td>2020-07-14</td>\n",
      "      <td>1516.80</td>\n",
      "      <td>1556.00</td>\n",
      "      <td>1590.0</td>\n",
      "      <td>1431.00</td>\n",
      "      <td>-39.20</td>\n",
      "      <td>159.00</td>\n",
      "      <td>Tesla Autopilot was literally named after the term used in aviation. Also, what about Autobahn!?</td>\n",
      "    </tr>\n",
      "  </tbody>\n",
      "</table>\n"
     ]
    }
   ],
   "source": [
    "combined = tesla_combined.head().to_html()\n",
    "print(combined)"
   ]
  },
  {
   "cell_type": "code",
   "execution_count": null,
   "metadata": {},
   "outputs": [],
   "source": []
  }
 ],
 "metadata": {
  "kernelspec": {
   "display_name": "Python 3",
   "language": "python",
   "name": "python3"
  },
  "language_info": {
   "codemirror_mode": {
    "name": "ipython",
    "version": 3
   },
   "file_extension": ".py",
   "mimetype": "text/x-python",
   "name": "python",
   "nbconvert_exporter": "python",
   "pygments_lexer": "ipython3",
   "version": "3.7.6"
  }
 },
 "nbformat": 4,
 "nbformat_minor": 4
}
